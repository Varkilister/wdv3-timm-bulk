{
  "nbformat": 4,
  "nbformat_minor": 0,
  "metadata": {
    "colab": {
      "provenance": [],
      "gpuType": "T4"
    },
    "kernelspec": {
      "name": "python3",
      "display_name": "Python 3"
    },
    "language_info": {
      "name": "python"
    },
    "accelerator": "GPU"
  },
  "cells": [
    {
      "cell_type": "markdown",
      "source": [
        "# wd-tagger-v3 TIMM Notebook\n",
        "## Make sure you're running on GPU instance if you want to utilize GPU"
      ],
      "metadata": {
        "id": "KElJB71YNBi6"
      }
    },
    {
      "cell_type": "markdown",
      "source": [
        "Connect GDrive [Skippable, do not work if you're not using Google Colab]"
      ],
      "metadata": {
        "id": "edwaxdzvUXZk"
      }
    },
    {
      "cell_type": "code",
      "source": [
        "from google.colab import drive\n",
        "drive.mount('/content/drive')\n",
        "!rm -rf /content/sample_data/"
      ],
      "metadata": {
        "id": "jeJkd77uUdz7"
      },
      "execution_count": null,
      "outputs": []
    },
    {
      "cell_type": "markdown",
      "source": [
        "Setup wdv3-timm-bulk"
      ],
      "metadata": {
        "id": "zUqPOHzlUjL5"
      }
    },
    {
      "cell_type": "code",
      "source": [
        "!apt install python3.10-venv\n",
        "!git clone https://github.com/nawka12/wdv3-timm-bulk\n",
        "%cd wdv3-timm-bulk\n",
        "!chmod +x setup.sh\n",
        "!./setup.sh"
      ],
      "metadata": {
        "id": "FLxIyHCgUioN"
      },
      "execution_count": null,
      "outputs": []
    },
    {
      "cell_type": "markdown",
      "source": [
        "Tag your stuff"
      ],
      "metadata": {
        "id": "zXdwcx5uVYH5"
      }
    },
    {
      "cell_type": "code",
      "source": [
        "!source .venv/bin/activate; python wdv3_timm.py swinv2 /content/drive/MyDrive/path/to/dir # Replace with YOUR REAL DIRECTORY."
      ],
      "metadata": {
        "id": "wLdo0h8PVdT7"
      },
      "execution_count": null,
      "outputs": []
    }
  ]
}